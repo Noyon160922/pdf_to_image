{
 "cells": [
  {
   "cell_type": "code",
   "execution_count": null,
   "id": "b902f3b2-8365-49de-bf43-f66e0460c59d",
   "metadata": {},
   "outputs": [],
   "source": [
    "!pip install pdf2image"
   ]
  },
  {
   "cell_type": "code",
   "execution_count": 1,
   "id": "992c52b0-15b3-4a69-a999-0f2d0d515587",
   "metadata": {},
   "outputs": [],
   "source": [
    "import os\n",
    "from pdf2image import convert_from_path"
   ]
  },
  {
   "cell_type": "code",
   "execution_count": 2,
   "id": "8998c5e6-76cd-408d-a9bc-31cc468c8dad",
   "metadata": {},
   "outputs": [
    {
     "name": "stdout",
     "output_type": "stream",
     "text": [
      "121\n"
     ]
    }
   ],
   "source": [
    "path=\"input path\"\n",
    "file = os.listdir(path)\n",
    "j=0\n",
    "for x in file:\n",
    "    # print(x)\n",
    "    # Store Pdf with convert_from_path function\n",
    "    images = convert_from_path(path+x)\n",
    "    \n",
    "    # for i in range(len(images)):\n",
    "       \n",
    "          # Save pages as images in the pdf\n",
    "    images[0].save('save image path'+str(j) +'.jpg', 'JPEG')\n",
    "    j+=1\n",
    "print(j)"
   ]
  },
  {
   "cell_type": "code",
   "execution_count": null,
   "id": "d5d94363-d5e4-4b56-a8f7-04a561c5b17b",
   "metadata": {},
   "outputs": [],
   "source": []
  },
  {
   "cell_type": "code",
   "execution_count": null,
   "id": "1c2834bb-ae91-490d-8937-5e965e434213",
   "metadata": {},
   "outputs": [],
   "source": [
    "from pdf2image import convert_from_path\n",
    " \n",
    " \n",
    "# Store Pdf with convert_from_path function\n",
    "images = convert_from_path('path')\n",
    "j=1834\n",
    "for i in range(len(images)):\n",
    "   \n",
    "      # Save pages as images in the pdf\n",
    "    images[i].save('path'+ str(j) +'.jpg', 'JPEG')\n",
    "    j+=1\n",
    "print(j)"
   ]
  },
  {
   "cell_type": "code",
   "execution_count": null,
   "id": "df7a0c9e-a963-481d-ad8d-65bebff76faa",
   "metadata": {},
   "outputs": [],
   "source": [
    "from pdf2image import convert_from_path\n",
    " \n",
    " \n",
    "# Store Pdf with convert_from_path function\n",
    "images = convert_from_path('path.pdf')\n",
    "j=0\n",
    "for i in range(len(images)):\n",
    "   \n",
    "      # Save pages as images in the pdf\n",
    "    images[i].save('path'+ str(j) +'.jpg', 'JPEG')\n",
    "    j+=1\n",
    "print(j)"
   ]
  },
  {
   "cell_type": "code",
   "execution_count": null,
   "id": "7e74c11c-9dca-4f90-ab3d-f20ef60c2431",
   "metadata": {},
   "outputs": [],
   "source": []
  }
 ],
 "metadata": {
  "kernelspec": {
   "display_name": "Python 3 (ipykernel)",
   "language": "python",
   "name": "python3"
  },
  "language_info": {
   "codemirror_mode": {
    "name": "ipython",
    "version": 3
   },
   "file_extension": ".py",
   "mimetype": "text/x-python",
   "name": "python",
   "nbconvert_exporter": "python",
   "pygments_lexer": "ipython3",
   "version": "3.10.13"
  }
 },
 "nbformat": 4,
 "nbformat_minor": 5
}
